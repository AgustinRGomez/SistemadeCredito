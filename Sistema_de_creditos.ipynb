{
  "nbformat": 4,
  "nbformat_minor": 0,
  "metadata": {
    "colab": {
      "provenance": [],
      "authorship_tag": "ABX9TyO519EsKLYnLJRE9dVTGIOP",
      "include_colab_link": true
    },
    "kernelspec": {
      "name": "python3",
      "display_name": "Python 3"
    },
    "language_info": {
      "name": "python"
    }
  },
  "cells": [
    {
      "cell_type": "markdown",
      "metadata": {
        "id": "view-in-github",
        "colab_type": "text"
      },
      "source": [
        "<a href=\"https://colab.research.google.com/github/AgustinRGomez/SistemadeCredito/blob/main/Sistema_de_creditos.ipynb\" target=\"_parent\"><img src=\"https://colab.research.google.com/assets/colab-badge.svg\" alt=\"Open In Colab\"/></a>"
      ]
    },
    {
      "cell_type": "markdown",
      "source": [
        "## Varias formas de obtener la hora y el tiempo"
      ],
      "metadata": {
        "id": "Qr97hcw8PyZQ"
      }
    },
    {
      "cell_type": "code",
      "source": [
        "from datetime import date\n",
        "fecha_actual = date.today()\n",
        "fecha_en_texto = fecha_actual.strftime('%d/%m/%Y')\n",
        "print(fecha_en_texto)"
      ],
      "metadata": {
        "colab": {
          "base_uri": "https://localhost:8080/"
        },
        "id": "El15A0F0NJkE",
        "outputId": "04119f10-245d-4057-891c-b39c788e2918"
      },
      "execution_count": 1,
      "outputs": [
        {
          "output_type": "stream",
          "name": "stdout",
          "text": [
            "30/10/2023\n"
          ]
        }
      ]
    },
    {
      "cell_type": "code",
      "source": [
        "from datetime import datetime\n",
        "import zoneinfo\n",
        "\n",
        "# creamos las zonas horarias\n",
        "def times():\n",
        "  zona_arg = zoneinfo.ZoneInfo(\"America/Buenos_Aires\")\n",
        "  fecha_y_hora_atuales = datetime.now(zona_arg)\n",
        "  fecha_y_hora_en_texto = fecha_y_hora_atuales.strftime('%d/%m/%Y - %H:%M')\n",
        "\n",
        "  return fecha_y_hora_en_texto\n",
        "\n",
        "print(times())"
      ],
      "metadata": {
        "colab": {
          "base_uri": "https://localhost:8080/"
        },
        "id": "RHYi3WX-PBkj",
        "outputId": "d92797b0-9a55-4a75-8c2f-eef7605f93ed"
      },
      "execution_count": 2,
      "outputs": [
        {
          "output_type": "stream",
          "name": "stdout",
          "text": [
            "30/10/2023 - 11:05\n"
          ]
        }
      ]
    },
    {
      "cell_type": "markdown",
      "source": [
        "## Armamos las clases para el sistema de creditos\n",
        "Las clases serian Cuenta,Credito y Banco.\n",
        "### Clase Cuenta"
      ],
      "metadata": {
        "id": "ZmwU7k4bGOJv"
      }
    },
    {
      "cell_type": "code",
      "source": [
        "from datetime import datetime\n",
        "\n",
        "class Cuenta:\n",
        "    #nombre,apellido,edad\n",
        "  def __init__(self,nombre,apellido,edad):\n",
        "    if (edad >= 18 and edad <= 70):\n",
        "       self.edad = edad\n",
        "    else: raise Exception(\"La edad ingresada es incorrecta.\")\n",
        "\n",
        "    if type(nombre) == str  and type(apellido) == str:\n",
        "       self.nombre = nombre\n",
        "       self.apellido = apellido\n",
        "\n",
        "\n",
        "    else: raise Exception(\"El nombre/apellido tiene que ser de tipo str.\")\n",
        "\n",
        "    self.monto = 100000.0 #monto fijo\n",
        "    self.credito_total = 0.00       #credito total\n",
        "    self.list_creditos = [] #en esta lista se ingresaran los creditos que pedira el cliente.\n",
        "\n",
        "    self.fecha = times()\n",
        "\n",
        "\n",
        "  def __repr__(self):\n",
        "\n",
        "    print(f\"Nombre y apellido : {self.nombre} {self.apellido} , Edad : {str(self.edad)} años , Monto : {self.monto} ,Credito Total : {self.credito_total}, Fecha de inscripcion : {self.fecha}\")\n",
        "\n",
        "    self.ver_list()\n",
        "\n",
        "  def ver_list(self):\n",
        "    print(f\"Lista de Creditos : [\")\n",
        "    for i in range(len(self.list_creditos)):\n",
        "      self.list_creditos[i].__repr__()\n",
        "\n",
        "    print(f\"]Cantidad de creditos : {len(self.list_creditos)} \")\n",
        "\n",
        "  def add_credit(self,prestamo,motivo):\n",
        "    if self.monto > 0:\n",
        "      c1 = Credito(prestamo,motivo)\n",
        "      self.list_creditos.append(c1)\n",
        "      self.credito_total += c1.prestamo\n",
        "      self.monto -= c1.prestamo\n",
        "\n",
        "      print(f\"el credito se pidio con exito.\")\n",
        "    else : raise Exception(\"El monto disponible es 0.00  o menor.Por favor pagar los creditos que debe.\")\n",
        "\n",
        "  def pay_credit(self,prestamo,motivo): # Pagar el credito\n",
        "     for i in range(len(self.list_creditos)):\n",
        "        mot = self.list_creditos[i].motivo\n",
        "        if mot == motivo :\n",
        "          if prestamo > 0 and prestamo <= 100000.0 and self.list_creditos[i].prestamo > 0:\n",
        "             self.monto += prestamo\n",
        "             self.credito_total -= prestamo\n",
        "             self.list_creditos[i].prestamo-=prestamo\n",
        "             print(f\"Se pago con exito el credito. \")\n",
        "             break\n",
        "\n",
        "\n"
      ],
      "metadata": {
        "id": "YngXqqc8PvLy"
      },
      "execution_count": 7,
      "outputs": []
    },
    {
      "cell_type": "markdown",
      "source": [
        "## Clase Credito"
      ],
      "metadata": {
        "id": "OndbWUlA8KI0"
      }
    },
    {
      "cell_type": "code",
      "source": [
        "class Credito:\n",
        "  def __init__(self,prestamo,motivo):\n",
        "\n",
        "     if type(motivo) == str :\n",
        "         self.motivo = motivo\n",
        "     else: raise Exception(\"El motivo del credito tiene que ser de tipo str.\")\n",
        "     if prestamo > 0 and prestamo <= 100000.0 :\n",
        "       self.prestamo = prestamo\n",
        "     else: raise Exception(\"El monto del prestamo tiene que ser un valor numerico entre 0 y 100000.\")\n",
        "     fecha_y_hora_atuales = datetime.now()\n",
        "     self.tiempo = times()\n",
        "\n",
        "  def __repr__(self):\n",
        "    if self.prestamo != 0 :\n",
        "        condicion = \"No Pagado\"\n",
        "        print(f\"Estado de credito: {condicion} , Prestamo : {float(self.prestamo)} , Motivo : {self.motivo} , Fecha de pedido : {self.tiempo} \")\n",
        "    else :\n",
        "        condicion = \"Pagado\"\n",
        "        print(f\"Estado de credito: {condicion} , Prestamo : {float(self.prestamo)} , Motivo : {self.motivo} , Fecha de pedido : {self.tiempo} \")\n",
        "\n"
      ],
      "metadata": {
        "id": "c54sy7aF7-hk"
      },
      "execution_count": 16,
      "outputs": []
    },
    {
      "cell_type": "code",
      "source": [
        "c1 = Cuenta(\"Agustin\",\"Gomez\",30)\n",
        "c1.__repr__()\n",
        "\n"
      ],
      "metadata": {
        "colab": {
          "base_uri": "https://localhost:8080/"
        },
        "id": "vrPdlWqq7Ne8",
        "outputId": "8f0d89d7-3c14-4022-8f5b-88db07ac6c35"
      },
      "execution_count": 22,
      "outputs": [
        {
          "output_type": "stream",
          "name": "stdout",
          "text": [
            "Nombre y apellido : Agustin Gomez , Edad : 30 años , Monto : 100000.0 ,Credito Total : 0.0, Fecha de inscripcion : 30/10/2023 - 11:21\n",
            "Lista de Creditos : [\n",
            "]Cantidad de creditos : 0 \n"
          ]
        }
      ]
    },
    {
      "cell_type": "code",
      "source": [
        "c2 = Cuenta(\"Ezequiel\",\"Gomez\",28)\n",
        "c2.__repr__()"
      ],
      "metadata": {
        "colab": {
          "base_uri": "https://localhost:8080/"
        },
        "id": "qRSJ8bDD7ZN-",
        "outputId": "d29429c4-006d-4fa9-9f55-8a62fde0b9cf"
      },
      "execution_count": 15,
      "outputs": [
        {
          "output_type": "stream",
          "name": "stdout",
          "text": [
            "Nombre y apellido : Ezequiel Gomez , Edad : 28 años , Monto : 100000.0 ,Credito Total : 0.0, Fecha de inscripcion : 30/10/2023 - 11:13\n",
            "Lista de Creditos : [\n",
            "]Cantidad de creditos : 0 \n"
          ]
        }
      ]
    },
    {
      "cell_type": "code",
      "source": [
        "c1.add_credit(24000,\"Remodelaciones\")\n"
      ],
      "metadata": {
        "colab": {
          "base_uri": "https://localhost:8080/"
        },
        "id": "FD7bUFWBGS-7",
        "outputId": "6ee359fa-fce1-4b9b-f7b8-c89584c51516"
      },
      "execution_count": 23,
      "outputs": [
        {
          "output_type": "stream",
          "name": "stdout",
          "text": [
            "el credito se pidio con exito.\n"
          ]
        }
      ]
    },
    {
      "cell_type": "code",
      "source": [
        "c1.add_credit(3000,\"Refracciones\")\n",
        "c1.add_credit(1234,\"Mercaderia\")\n",
        "c1.add_credit(50000.0,\"Bebidas\")\n",
        "\n",
        "c1.__repr__()"
      ],
      "metadata": {
        "colab": {
          "base_uri": "https://localhost:8080/"
        },
        "id": "8LIRaWqy71JG",
        "outputId": "20d4ed94-3c64-4310-d81a-a4f532538a5e"
      },
      "execution_count": 24,
      "outputs": [
        {
          "output_type": "stream",
          "name": "stdout",
          "text": [
            "el credito se pidio con exito.\n",
            "el credito se pidio con exito.\n",
            "el credito se pidio con exito.\n",
            "Nombre y apellido : Agustin Gomez , Edad : 30 años , Monto : 21766.0 ,Credito Total : 78234.0, Fecha de inscripcion : 30/10/2023 - 11:21\n",
            "Lista de Creditos : [\n",
            "Estado de credito: No Pagado , Prestamo : 24000.0 , Motivo : Remodelaciones , Fecha de pedido : 30/10/2023 - 11:21 \n",
            "Estado de credito: No Pagado , Prestamo : 3000.0 , Motivo : Refracciones , Fecha de pedido : 30/10/2023 - 11:23 \n",
            "Estado de credito: No Pagado , Prestamo : 1234.0 , Motivo : Mercaderia , Fecha de pedido : 30/10/2023 - 11:23 \n",
            "Estado de credito: No Pagado , Prestamo : 50000.0 , Motivo : Bebidas , Fecha de pedido : 30/10/2023 - 11:23 \n",
            "]Cantidad de creditos : 4 \n"
          ]
        }
      ]
    },
    {
      "cell_type": "code",
      "source": [
        "c1.pay_credit(24000,\"Remodelaciones\")\n",
        "#c1.add_credit(24000,\"Remodelaciones\")\n",
        "c1.__repr__()"
      ],
      "metadata": {
        "colab": {
          "base_uri": "https://localhost:8080/"
        },
        "id": "DjmAdoY0S23y",
        "outputId": "c5d16821-562c-406f-cdbb-fef920614aa4"
      },
      "execution_count": 25,
      "outputs": [
        {
          "output_type": "stream",
          "name": "stdout",
          "text": [
            "Se pago con exito el credito. \n",
            "Nombre y apellido : Agustin Gomez , Edad : 30 años , Monto : 45766.0 ,Credito Total : 54234.0, Fecha de inscripcion : 30/10/2023 - 11:21\n",
            "Lista de Creditos : [\n",
            "Estado de credito: Pagado , Prestamo : 0.0 , Motivo : Remodelaciones , Fecha de pedido : 30/10/2023 - 11:21 \n",
            "Estado de credito: No Pagado , Prestamo : 3000.0 , Motivo : Refracciones , Fecha de pedido : 30/10/2023 - 11:23 \n",
            "Estado de credito: No Pagado , Prestamo : 1234.0 , Motivo : Mercaderia , Fecha de pedido : 30/10/2023 - 11:23 \n",
            "Estado de credito: No Pagado , Prestamo : 50000.0 , Motivo : Bebidas , Fecha de pedido : 30/10/2023 - 11:23 \n",
            "]Cantidad de creditos : 4 \n"
          ]
        }
      ]
    },
    {
      "cell_type": "markdown",
      "source": [
        "### 2do Clase Credito"
      ],
      "metadata": {
        "id": "6TaKonnVGeGn"
      }
    },
    {
      "cell_type": "code",
      "source": [
        "c2 = Credito(4000,\"Remodelaciones\")\n",
        "c2.__repr__()"
      ],
      "metadata": {
        "colab": {
          "base_uri": "https://localhost:8080/"
        },
        "id": "t7-pDlfgWjN2",
        "outputId": "b6a1823e-4b0b-4ed3-9915-0cb9e5dfa039"
      },
      "execution_count": 26,
      "outputs": [
        {
          "output_type": "stream",
          "name": "stdout",
          "text": [
            "Estado de credito: No Pagado , Prestamo : 4000.0 , Motivo : Remodelaciones , Fecha de pedido : 30/10/2023 - 11:24 \n"
          ]
        }
      ]
    },
    {
      "cell_type": "code",
      "source": [
        "class Banco:\n",
        "  def __init__(self):\n",
        "     self.list_clientes = []\n",
        "\n",
        "  def add_clientes(self,nombre,apellido,edad):\n",
        "    if (not self.validate_cliente(nombre,apellido)):\n",
        "       c1 = Cuenta(nombre,apellido,edad)\n",
        "       self.list_clientes.append(c1)\n",
        "       print(f\"El cliente {nombre} {apellido} se agrego con exito.\")\n",
        "\n",
        "    else: raise Exception(\"No se puede agregar un cliente que ya esta en la lista.\")\n",
        "\n",
        "  def delete_clientes(self,nombre,apellido,edad):\n",
        "     for i in range(len(self.list_clientes)):\n",
        "       if nombre == self.list_clientes[i].nombre and apellido == self.list_clientes[i].apellido :\n",
        "         del self.list_clientes[i]\n",
        "\n",
        "     print(f\"El cliente {nombre} {apellido} se elimino con exito.\")\n",
        "\n",
        "  def validate_cliente(self,nombre,apellido):\n",
        "     for i in range(len(self.list_clientes)):                                                                  #Recorro la lista de clientes.\n",
        "          if nombre == self.list_clientes[i].nombre and apellido == self.list_clientes[i].apellido :           #Verifico que el cliente este en la lista.\n",
        "             return True                                                                                       #Si esta dicho cliente en la lista retorna un True.\n",
        "             break\n",
        "\n",
        "\n",
        "  def load_list(self):\n",
        "    for i in range(len(self.list_clientes)):\n",
        "      self.list_clientes[i].__repr__()\n",
        "\n",
        "  def pedir_credito(self,nombre,apellido,credito,motivo):\n",
        "     for i in range(len(self.list_clientes)):\n",
        "       if self.list_clientes[i].nombre == nombre and self.list_clientes[i].apellido == apellido : #verifico que el cliente este en la lista del banco.\n",
        "          self.list_clientes[i].add_credit(credito,motivo)\n",
        "\n",
        "\n",
        "\n",
        "  def pagar_credito(self,nombre,apellido,credito,motivo):\n",
        "     for i in range(len(self.list_clientes)):\n",
        "       if self.list_clientes[i].nombre == nombre and self.list_clientes[i].apellido == apellido : #verifico que el cliente este en la lista del banco.\n",
        "          self.list_clientes[i].pay_credit(credito,motivo)\n",
        "\n",
        "\n"
      ],
      "metadata": {
        "id": "T3dDcTXf2CXp"
      },
      "execution_count": 28,
      "outputs": []
    },
    {
      "cell_type": "code",
      "source": [
        "b1 = Banco()\n",
        "b1.add_clientes(\"Agustin\",\"Gomez\",30)\n",
        "b1.add_clientes(\"Maximiliano\",\"Gomez\",20)\n",
        "b1.add_clientes(\"Ariana\",\"Gomez\",24)\n",
        "b1.add_clientes(\"Candela\",\"Gomez\",26)\n",
        "b1.load_list()"
      ],
      "metadata": {
        "colab": {
          "base_uri": "https://localhost:8080/"
        },
        "id": "2FefmvUF-VUz",
        "outputId": "065c2c47-aac5-4ff3-ebc0-f6876f9f4676"
      },
      "execution_count": 29,
      "outputs": [
        {
          "output_type": "stream",
          "name": "stdout",
          "text": [
            "El cliente Agustin Gomez se agrego con exito.\n",
            "El cliente Maximiliano Gomez se agrego con exito.\n",
            "El cliente Ariana Gomez se agrego con exito.\n",
            "El cliente Candela Gomez se agrego con exito.\n",
            "Nombre y apellido : Agustin Gomez , Edad : 30 años , Monto : 100000.0 ,Credito Total : 0.0, Fecha de inscripcion : 30/10/2023 - 11:25\n",
            "Lista de Creditos : [\n",
            "]Cantidad de creditos : 0 \n",
            "Nombre y apellido : Maximiliano Gomez , Edad : 20 años , Monto : 100000.0 ,Credito Total : 0.0, Fecha de inscripcion : 30/10/2023 - 11:25\n",
            "Lista de Creditos : [\n",
            "]Cantidad de creditos : 0 \n",
            "Nombre y apellido : Ariana Gomez , Edad : 24 años , Monto : 100000.0 ,Credito Total : 0.0, Fecha de inscripcion : 30/10/2023 - 11:25\n",
            "Lista de Creditos : [\n",
            "]Cantidad de creditos : 0 \n",
            "Nombre y apellido : Candela Gomez , Edad : 26 años , Monto : 100000.0 ,Credito Total : 0.0, Fecha de inscripcion : 30/10/2023 - 11:25\n",
            "Lista de Creditos : [\n",
            "]Cantidad de creditos : 0 \n"
          ]
        }
      ]
    },
    {
      "cell_type": "code",
      "source": [
        "b1.pedir_credito(\"Agustin\",\"Gomez\",65000,\"Productos de cocina\")\n",
        "b1.load_list()"
      ],
      "metadata": {
        "colab": {
          "base_uri": "https://localhost:8080/"
        },
        "id": "yIYwpFJn3VIU",
        "outputId": "ec788fe5-d395-47a1-bbd2-fb4a97bc889d"
      },
      "execution_count": 30,
      "outputs": [
        {
          "output_type": "stream",
          "name": "stdout",
          "text": [
            "el credito se pidio con exito.\n",
            "Nombre y apellido : Agustin Gomez , Edad : 30 años , Monto : 35000.0 ,Credito Total : 65000.0, Fecha de inscripcion : 30/10/2023 - 11:25\n",
            "Lista de Creditos : [\n",
            "Estado de credito: No Pagado , Prestamo : 65000.0 , Motivo : Productos de cocina , Fecha de pedido : 30/10/2023 - 11:25 \n",
            "]Cantidad de creditos : 1 \n",
            "Nombre y apellido : Maximiliano Gomez , Edad : 20 años , Monto : 100000.0 ,Credito Total : 0.0, Fecha de inscripcion : 30/10/2023 - 11:25\n",
            "Lista de Creditos : [\n",
            "]Cantidad de creditos : 0 \n",
            "Nombre y apellido : Ariana Gomez , Edad : 24 años , Monto : 100000.0 ,Credito Total : 0.0, Fecha de inscripcion : 30/10/2023 - 11:25\n",
            "Lista de Creditos : [\n",
            "]Cantidad de creditos : 0 \n",
            "Nombre y apellido : Candela Gomez , Edad : 26 años , Monto : 100000.0 ,Credito Total : 0.0, Fecha de inscripcion : 30/10/2023 - 11:25\n",
            "Lista de Creditos : [\n",
            "]Cantidad de creditos : 0 \n"
          ]
        }
      ]
    },
    {
      "cell_type": "code",
      "source": [
        "#Asignemos el nombre con input() y mostremos el mensaje a la vez\n",
        "nombre = input(\"Por favor ingrese nombre: \") #Acá el usuario ya sabe qué debe ingresar\n",
        "apellido = input(\"Por favor ingrese apellido: \")\n",
        "edad = int(input(\"Por favor ingrese edad: \"))\n",
        "print(\"Bienvenido \" ,nombre,apellido, \"-\",edad)\n"
      ],
      "metadata": {
        "id": "R-0zzWMe9LGe",
        "colab": {
          "base_uri": "https://localhost:8080/"
        },
        "outputId": "096516d7-74d9-4710-8644-9fcadb614dd1"
      },
      "execution_count": 31,
      "outputs": [
        {
          "output_type": "stream",
          "name": "stdout",
          "text": [
            "Por favor ingrese nombre: Agustin\n",
            "Por favor ingrese apellido: Gomez\n",
            "Por favor ingrese edad: 30\n",
            "Bienvenido  Agustin Gomez - 30\n"
          ]
        }
      ]
    },
    {
      "cell_type": "markdown",
      "source": [
        "## 3ero Clase Menu"
      ],
      "metadata": {
        "id": "dtx0cz5yDCyj"
      }
    },
    {
      "cell_type": "code",
      "source": [
        "class Menu:\n",
        "\n",
        "  def menuPrincipal(self):\n",
        "       banco = Banco()\n",
        "       while True:\n",
        "\n",
        "\n",
        "                print(\"***************************\")\n",
        "                print(\"*     MENU PRINCIPAL      *\")\n",
        "                print(\"***************************\")\n",
        "                print(\"*1.Agregar un cliente     *\")\n",
        "                print(\"*2.Eliminar un cliente    *\")\n",
        "                print(\"*3.Ver lista de clientes  *\")\n",
        "                print(\"*4.Pedir un credito       *\")\n",
        "                print(\"*5.Pagar un credito       *\")\n",
        "                print(\"*6.Salir                  *\")\n",
        "                print(\"***************************\")\n",
        "\n",
        "\n",
        "                opcionMenu = int(input(\"Ingrese una opcion: \"))\n",
        "                if opcionMenu==1:\n",
        "\n",
        "\n",
        "                        #Se ingresa los datos del cliente\n",
        "                        nombre = str(input(\"Por favor ingrese nombre: \"))\n",
        "                        apellido = str(input(\"Por favor ingrese apellido: \"))\n",
        "                        edad = int(input(\"Por favor ingrese edad: \"))\n",
        "                        banco.add_clientes(nombre,apellido,edad)\n",
        "\n",
        "\n",
        "\n",
        "\n",
        "                elif opcionMenu==2:\n",
        "\n",
        "                        nombre = str(input(\"Por favor ingrese nombre: \"))\n",
        "                        apellido = str(input(\"Por favor ingrese apellido: \"))\n",
        "                        edad = int(input(\"Por favor ingrese edad: \"))\n",
        "\n",
        "                        banco.delete_clientes(nombre,apellido,edad)\n",
        "\n",
        "\n",
        "\n",
        "                elif opcionMenu==3:\n",
        "\n",
        "                       banco.load_list()\n",
        "\n",
        "\n",
        "\n",
        "                elif opcionMenu==4:\n",
        "\n",
        "                         nombre = str(input(\"Por favor ingrese nombre: \"))\n",
        "                         apellido = str(input(\"Por favor ingrese apellido: \"))\n",
        "                         credito = float(input(\"Por favor ingrese monto del credito: \"))\n",
        "                         motivo = str(input(\"Por favor ingrese motivo: \"))\n",
        "\n",
        "                         banco.pedir_credito(nombre,apellido,credito,motivo)\n",
        "\n",
        "\n",
        "\n",
        "\n",
        "\n",
        "                elif opcionMenu==5:\n",
        "\n",
        "                         nombre = str(input(\"Por favor ingrese nombre: \"))\n",
        "                         apellido = str(input(\"Por favor ingrese apellido: \"))\n",
        "                         credito = float(input(\"Por favor ingrese monto del credito \"))\n",
        "                         motivo = str(input(\"Por favor ingrese motivo: \"))\n",
        "\n",
        "                         banco.pagar_credito(nombre,apellido,credito,motivo)\n",
        "\n",
        "\n",
        "\n",
        "                elif opcionMenu==6:\n",
        "\n",
        "                    pass\n",
        "                    break\n",
        "\n",
        "\n"
      ],
      "metadata": {
        "id": "k8AovZrNDRdu"
      },
      "execution_count": 33,
      "outputs": []
    },
    {
      "cell_type": "code",
      "source": [
        "menu = Menu()\n",
        "menu.menuPrincipal()"
      ],
      "metadata": {
        "id": "s3y6aHgZ1Xfk",
        "colab": {
          "base_uri": "https://localhost:8080/"
        },
        "outputId": "e9ad4944-07ff-4318-83df-ea5b95f230f3"
      },
      "execution_count": 36,
      "outputs": [
        {
          "name": "stdout",
          "output_type": "stream",
          "text": [
            "***************************\n",
            "*     MENU PRINCIPAL      *\n",
            "***************************\n",
            "*1.Agregar un cliente     *\n",
            "*2.Eliminar un cliente    *\n",
            "*3.Ver lista de clientes  *\n",
            "*4.Pedir un credito       *\n",
            "*5.Pagar un credito       *\n",
            "*6.Salir                  *\n",
            "***************************\n",
            "Ingrese una opcion: 1\n",
            "Por favor ingrese nombre: Agustin\n",
            "Por favor ingrese apellido: Gomez\n",
            "Por favor ingrese edad: 30\n",
            "El cliente Agustin Gomez se agrego con exito.\n",
            "***************************\n",
            "*     MENU PRINCIPAL      *\n",
            "***************************\n",
            "*1.Agregar un cliente     *\n",
            "*2.Eliminar un cliente    *\n",
            "*3.Ver lista de clientes  *\n",
            "*4.Pedir un credito       *\n",
            "*5.Pagar un credito       *\n",
            "*6.Salir                  *\n",
            "***************************\n",
            "Ingrese una opcion: 4\n",
            "Por favor ingrese nombre: Agustin\n",
            "Por favor ingrese apellido: Gomez\n",
            "Por favor ingrese monto del credito: 3500\n",
            "Por favor ingrese motivo: comprar comida\n",
            "el credito se pidio con exito.\n",
            "***************************\n",
            "*     MENU PRINCIPAL      *\n",
            "***************************\n",
            "*1.Agregar un cliente     *\n",
            "*2.Eliminar un cliente    *\n",
            "*3.Ver lista de clientes  *\n",
            "*4.Pedir un credito       *\n",
            "*5.Pagar un credito       *\n",
            "*6.Salir                  *\n",
            "***************************\n",
            "Ingrese una opcion: 4\n",
            "Por favor ingrese nombre: Agustin\n",
            "Por favor ingrese apellido: Gomez\n",
            "Por favor ingrese monto del credito: 7500\n",
            "Por favor ingrese motivo: Comprar medicamentos\n",
            "el credito se pidio con exito.\n",
            "***************************\n",
            "*     MENU PRINCIPAL      *\n",
            "***************************\n",
            "*1.Agregar un cliente     *\n",
            "*2.Eliminar un cliente    *\n",
            "*3.Ver lista de clientes  *\n",
            "*4.Pedir un credito       *\n",
            "*5.Pagar un credito       *\n",
            "*6.Salir                  *\n",
            "***************************\n",
            "Ingrese una opcion: 3\n",
            "Nombre y apellido : Agustin Gomez , Edad : 30 años , Monto : 89000.0 ,Credito Total : 11000.0, Fecha de inscripcion : 30/10/2023 - 11:32\n",
            "Lista de Creditos : [\n",
            "Estado de credito: No Pagado , Prestamo : 3500.0 , Motivo : comprar comida , Fecha de pedido : 30/10/2023 - 11:32 \n",
            "Estado de credito: No Pagado , Prestamo : 7500.0 , Motivo : Comprar medicamentos , Fecha de pedido : 30/10/2023 - 11:32 \n",
            "]Cantidad de creditos : 2 \n",
            "***************************\n",
            "*     MENU PRINCIPAL      *\n",
            "***************************\n",
            "*1.Agregar un cliente     *\n",
            "*2.Eliminar un cliente    *\n",
            "*3.Ver lista de clientes  *\n",
            "*4.Pedir un credito       *\n",
            "*5.Pagar un credito       *\n",
            "*6.Salir                  *\n",
            "***************************\n",
            "Ingrese una opcion: 5\n",
            "Por favor ingrese nombre: Agustin\n",
            "Por favor ingrese apellido: Gomez\n",
            "Por favor ingrese monto del credito 7500\n",
            "Por favor ingrese motivo: Comprar medicamentos\n",
            "Se pago con exito el credito. \n",
            "***************************\n",
            "*     MENU PRINCIPAL      *\n",
            "***************************\n",
            "*1.Agregar un cliente     *\n",
            "*2.Eliminar un cliente    *\n",
            "*3.Ver lista de clientes  *\n",
            "*4.Pedir un credito       *\n",
            "*5.Pagar un credito       *\n",
            "*6.Salir                  *\n",
            "***************************\n",
            "Ingrese una opcion: 3\n",
            "Nombre y apellido : Agustin Gomez , Edad : 30 años , Monto : 96500.0 ,Credito Total : 3500.0, Fecha de inscripcion : 30/10/2023 - 11:32\n",
            "Lista de Creditos : [\n",
            "Estado de credito: No Pagado , Prestamo : 3500.0 , Motivo : comprar comida , Fecha de pedido : 30/10/2023 - 11:32 \n",
            "Estado de credito: Pagado , Prestamo : 0.0 , Motivo : Comprar medicamentos , Fecha de pedido : 30/10/2023 - 11:32 \n",
            "]Cantidad de creditos : 2 \n",
            "***************************\n",
            "*     MENU PRINCIPAL      *\n",
            "***************************\n",
            "*1.Agregar un cliente     *\n",
            "*2.Eliminar un cliente    *\n",
            "*3.Ver lista de clientes  *\n",
            "*4.Pedir un credito       *\n",
            "*5.Pagar un credito       *\n",
            "*6.Salir                  *\n",
            "***************************\n",
            "Ingrese una opcion: 3\n",
            "Nombre y apellido : Agustin Gomez , Edad : 30 años , Monto : 96500.0 ,Credito Total : 3500.0, Fecha de inscripcion : 30/10/2023 - 11:32\n",
            "Lista de Creditos : [\n",
            "Estado de credito: No Pagado , Prestamo : 3500.0 , Motivo : comprar comida , Fecha de pedido : 30/10/2023 - 11:32 \n",
            "Estado de credito: Pagado , Prestamo : 0.0 , Motivo : Comprar medicamentos , Fecha de pedido : 30/10/2023 - 11:32 \n",
            "]Cantidad de creditos : 2 \n",
            "***************************\n",
            "*     MENU PRINCIPAL      *\n",
            "***************************\n",
            "*1.Agregar un cliente     *\n",
            "*2.Eliminar un cliente    *\n",
            "*3.Ver lista de clientes  *\n",
            "*4.Pedir un credito       *\n",
            "*5.Pagar un credito       *\n",
            "*6.Salir                  *\n",
            "***************************\n",
            "Ingrese una opcion: 6\n"
          ]
        }
      ]
    },
    {
      "cell_type": "code",
      "source": [
        "class Presentacion:\n",
        "\n",
        "   def mostrar_menu(opciones):\n",
        "       print('Seleccione una opción:')\n",
        "       for clave in sorted(opciones):\n",
        "          print(f' {clave}) {opciones[clave][0]}')\n",
        "\n",
        "\n",
        "   def leer_opcion(opciones):\n",
        "       while (a := input('Opción: ')) not in opciones:\n",
        "             print('Opción incorrecta, vuelva a intentarlo.')\n",
        "             return a\n",
        "\n",
        "\n",
        "   def ejecutar_opcion(opcion, opciones):\n",
        "        opciones[opcion][1]()\n",
        "\n",
        "\n",
        "   def generar_menu(opciones, opcion_salida):\n",
        "       opcion = None\n",
        "       while opcion != opcion_salida:\n",
        "           mostrar_menu(opciones)\n",
        "           opcion = leer_opcion(opciones)\n",
        "           ejecutar_opcion(opcion, opciones)\n",
        "           print()\n",
        "\n",
        "\n",
        "   def menu_principal():\n",
        "       opciones = {\n",
        "          '1': ('Opción 1', accion1),\n",
        "          '2': ('Opción 2', accion2),\n",
        "          '3': ('Opción 3', accion3),\n",
        "          '4': ('Salir', salir)\n",
        "       }\n",
        "\n",
        "       generar_menu(opciones, '4')\n",
        "\n",
        "\n",
        "   def accion1():\n",
        "      print('Has elegido la opción 1')\n",
        "\n",
        "\n",
        "   def accion2():\n",
        "      print('Has elegido la opción 2')\n",
        "\n",
        "\n",
        "   def accion3():\n",
        "      print('Has elegido la opción 3')\n",
        "\n",
        "\n",
        "   def salir():\n",
        "     print('Saliendo')\n"
      ],
      "metadata": {
        "id": "Hci0N_-oyuIq"
      },
      "execution_count": 44,
      "outputs": []
    },
    {
      "cell_type": "code",
      "source": [
        "menu_principal()"
      ],
      "metadata": {
        "colab": {
          "base_uri": "https://localhost:8080/"
        },
        "id": "JZg5alT1E907",
        "outputId": "6b5fbfb9-5466-4bfb-bba6-4820d13ec151"
      },
      "execution_count": 46,
      "outputs": [
        {
          "output_type": "stream",
          "name": "stdout",
          "text": [
            "Seleccione una opción:\n",
            " 1) Opción 1\n",
            " 2) Opción 2\n",
            " 3) Opción 3\n",
            " 4) Salir\n",
            "Opción: 3\n",
            "Has elegido la opción 3\n",
            "\n",
            "Seleccione una opción:\n",
            " 1) Opción 1\n",
            " 2) Opción 2\n",
            " 3) Opción 3\n",
            " 4) Salir\n",
            "Opción: 2\n",
            "Has elegido la opción 2\n",
            "\n",
            "Seleccione una opción:\n",
            " 1) Opción 1\n",
            " 2) Opción 2\n",
            " 3) Opción 3\n",
            " 4) Salir\n",
            "Opción: 1\n",
            "Has elegido la opción 1\n",
            "\n",
            "Seleccione una opción:\n",
            " 1) Opción 1\n",
            " 2) Opción 2\n",
            " 3) Opción 3\n",
            " 4) Salir\n",
            "Opción: 4\n",
            "Saliendo\n",
            "\n"
          ]
        }
      ]
    }
  ]
}